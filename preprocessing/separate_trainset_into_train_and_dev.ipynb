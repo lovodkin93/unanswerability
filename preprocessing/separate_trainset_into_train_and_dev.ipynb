{
 "cells": [
  {
   "cell_type": "code",
   "execution_count": 1,
   "metadata": {},
   "outputs": [],
   "source": [
    "import os\n",
    "import json\n",
    "import pandas as pd"
   ]
  },
  {
   "cell_type": "code",
   "execution_count": 7,
   "metadata": {},
   "outputs": [],
   "source": [
    "DEV_CNT_FROM_END = 100"
   ]
  },
  {
   "cell_type": "code",
   "execution_count": 21,
   "metadata": {},
   "outputs": [],
   "source": [
    "indir = \"../generated_prompts/train_set/train_and_dev\"\n",
    "outdir_dev = \"../generated_prompts/dev_set/filtered\"\n",
    "outdir_remaining_train = \"../generated_prompts/actual_train_set\""
   ]
  },
  {
   "cell_type": "code",
   "execution_count": 22,
   "metadata": {},
   "outputs": [
    {
     "name": "stdout",
     "output_type": "stream",
     "text": [
      "done\n"
     ]
    }
   ],
   "source": [
    "for root, subdirs, files in os.walk(os.path.join(indir, \"zero_shot\")):\n",
    "    for file in files:\n",
    "        try:\n",
    "            with open(os.path.join(root, file)) as f1:\n",
    "                curr_data = json.loads(f1.read())\n",
    "        except:\n",
    "            print(\"done\")\n",
    "        dev_data = curr_data[-DEV_CNT_FROM_END:]\n",
    "        remaining_train_data = curr_data[:-DEV_CNT_FROM_END]\n",
    "\n",
    "        dev_outdir = os.path.join(root, file).replace(\"train_and_dev\", \"filtered\").replace(\"train\", \"dev\")\n",
    "        # with open(dev_outdir, 'w') as f2:\n",
    "        #     f2.write(json.dumps(dev_data, indent=1))\n",
    "        \n",
    "        remaining_train_set_outdir = os.path.join(root, file).replace(\"train_and_dev\", \"filtered\")\n",
    "\n",
    "        with open(remaining_train_set_outdir, 'w') as f3:\n",
    "            f3.write(json.dumps(remaining_train_data, indent=1))\n",
    "print(\"done\")\n"
   ]
  },
  {
   "cell_type": "markdown",
   "metadata": {},
   "source": [
    "### Remove from instances_ids the devset related ids"
   ]
  },
  {
   "cell_type": "code",
   "execution_count": null,
   "metadata": {},
   "outputs": [],
   "source": []
  }
 ],
 "metadata": {
  "kernelspec": {
   "display_name": "adversarial_gpt",
   "language": "python",
   "name": "python3"
  },
  "language_info": {
   "codemirror_mode": {
    "name": "ipython",
    "version": 3
   },
   "file_extension": ".py",
   "mimetype": "text/x-python",
   "name": "python",
   "nbconvert_exporter": "python",
   "pygments_lexer": "ipython3",
   "version": "3.7.16"
  },
  "orig_nbformat": 4
 },
 "nbformat": 4,
 "nbformat_minor": 2
}
