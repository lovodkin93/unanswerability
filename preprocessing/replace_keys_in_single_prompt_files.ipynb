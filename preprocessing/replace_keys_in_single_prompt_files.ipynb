{
 "cells": [
  {
   "cell_type": "code",
   "execution_count": 1,
   "metadata": {},
   "outputs": [],
   "source": [
    "import json\n",
    "import os\n",
    "from pathlib import Path"
   ]
  },
  {
   "cell_type": "code",
   "execution_count": 2,
   "metadata": {},
   "outputs": [],
   "source": [
    "indir = \"../data/old_prompts\"\n",
    "outdir = \"../data/prompts\""
   ]
  },
  {
   "cell_type": "code",
   "execution_count": 25,
   "metadata": {},
   "outputs": [],
   "source": [
    "def adapt_instance_dict(instance):\n",
    "    keys_to_change_mapping = {\"Adversarial\" : \"Regular-Prompt\",\n",
    "                              \"Pseudo-Adversarial\" : \"Hint-Prompt\",\n",
    "                              \"CoT-Adversarial\" : \"CoT-Prompt\",\n",
    "                              \"Adversarial-CoT\" : \"Regular-Prompt-CoT\",\n",
    "                              \"Pseudo-Adversarial-CoT\" : \"Hint-Prompt-CoT\"}\n",
    "    adapted_instance = dict()\n",
    "    for key,value in instance.items():\n",
    "        if key in keys_to_change_mapping.keys():\n",
    "            adapted_instance[keys_to_change_mapping[key]] = value\n",
    "        else:\n",
    "            adapted_instance[key] = value\n",
    "    return adapted_instance"
   ]
  },
  {
   "cell_type": "code",
   "execution_count": 26,
   "metadata": {},
   "outputs": [],
   "source": [
    "for subdir, dirs, files in os.walk(indir):\n",
    "    for file in files:\n",
    "        curr_outdir = subdir.replace(indir, outdir)\n",
    "        path = Path(curr_outdir)\n",
    "        path.mkdir(parents=True, exist_ok=True)\n",
    "        with open(os.path.join(subdir, file), 'r') as f1:\n",
    "            curr_data = json.loads(f1.read())\n",
    "        if \"zero_shot\" in subdir:\n",
    "            curr_updated_data = {variant:{instance_type:[adapt_instance_dict(instance) for instance in instances] for instance_type,instances in instance_types.items()} for variant,instance_types in curr_data.items()}\n",
    "        else:\n",
    "            curr_updated_data = {variant:{icl_examples_variant:{instance_type:[adapt_instance_dict(instance) for instance in instances] for instance_type,instances in instance_types.items()} for icl_examples_variant,instance_types in icl_examples_variants.items()} for variant,icl_examples_variants in curr_data.items()}    \n",
    "        \n",
    "        with open(os.path.join(curr_outdir, file), 'w') as f2:\n",
    "            f2.write(json.dumps(curr_updated_data, indent=2))"
   ]
  }
 ],
 "metadata": {
  "kernelspec": {
   "display_name": "adversarial_gpt",
   "language": "python",
   "name": "python3"
  },
  "language_info": {
   "codemirror_mode": {
    "name": "ipython",
    "version": 3
   },
   "file_extension": ".py",
   "mimetype": "text/x-python",
   "name": "python",
   "nbconvert_exporter": "python",
   "pygments_lexer": "ipython3",
   "version": "3.7.16"
  }
 },
 "nbformat": 4,
 "nbformat_minor": 2
}
