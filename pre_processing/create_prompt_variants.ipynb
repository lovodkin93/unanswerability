{
 "cells": [
  {
   "cell_type": "code",
   "execution_count": 1,
   "metadata": {},
   "outputs": [],
   "source": [
    "import json\n",
    "import pandas as pd\n",
    "import numpy as np\n",
    "import os\n",
    "from tqdm import tqdm"
   ]
  },
  {
   "attachments": {},
   "cell_type": "markdown",
   "metadata": {},
   "source": [
    "# Squad / NQ / Musique"
   ]
  },
  {
   "attachments": {},
   "cell_type": "markdown",
   "metadata": {},
   "source": [
    "### Zero Shot"
   ]
  },
  {
   "cell_type": "code",
   "execution_count": 28,
   "metadata": {},
   "outputs": [],
   "source": [
    "indir = \"generated_prompts/all/zero_shot\"\n",
    "data_name = \"musique\" #\"NQ\" #squad\n",
    "data_types = [\"adversarial\", \"control_group\"]\n",
    "variants = [\"variant1\", \"variant2\", \"variant3\"]\n",
    "\n",
    "adversarial_path = os.path.join(indir, f\"{data_name}_adversarial_all.json\")\n",
    "control_group_path = os.path.join(indir, f\"{data_name}_control_group_all.json\")"
   ]
  },
  {
   "cell_type": "code",
   "execution_count": 29,
   "metadata": {},
   "outputs": [],
   "source": [
    "if data_name == \"musique\":\n",
    "    variants_replacemants = {\"variant1\": {\"\":\"\"},\n",
    "                            \"variant2\":{\"If it cannot be answered based on the context, reply \\\"unanswerable\\\"\": \"If you don't know the answer, reply \\\"IDK\\\"\"},\n",
    "                            \"variant3\":{\"If it cannot be answered based on the context, reply \\\"unanswerable\\\"\": \"If there is no correct answer, reply \\\"N/A\\\"\"}}\n",
    "else:\n",
    "    variants_replacemants = {\"variant1\": {\"\":\"\"},\n",
    "                         \"variant2\":{\"If it cannot be answered based on the passage, reply \\\"unanswerable\\\"\": \"If you don't know the answer, reply \\\"IDK\\\"\"},\n",
    "                         \"variant3\":{\"If it cannot be answered based on the passage, reply \\\"unanswerable\\\"\": \"If there is no correct answer, reply \\\"N/A\\\"\"}}"
   ]
  },
  {
   "cell_type": "code",
   "execution_count": 30,
   "metadata": {},
   "outputs": [],
   "source": [
    "def change_instance(instance, old_str, new_str):\n",
    "    return {key:str(value).replace(old_str, new_str) for key,value in instance.items()}"
   ]
  },
  {
   "cell_type": "code",
   "execution_count": 31,
   "metadata": {},
   "outputs": [
    {
     "name": "stderr",
     "output_type": "stream",
     "text": [
      "100%|██████████| 2/2 [00:00<00:00,  2.70it/s]\n"
     ]
    }
   ],
   "source": [
    "for data_type in tqdm(data_types):\n",
    "    curr_indir = os.path.join(indir, f\"{data_name}_{data_type}_all.json\")\n",
    "    with open(curr_indir, 'r') as f1:\n",
    "        curr_data = json.loads(f1.read())\n",
    "    for variant in variants:\n",
    "        old_str, new_str = list(variants_replacemants[variant].items())[0]\n",
    "        curr_outdir = os.path.join(indir, variant, f\"{data_name}_{data_type}_all.json\")\n",
    "        new_data = [change_instance(instance, old_str, new_str) for instance in curr_data]\n",
    "\n",
    "        with open(curr_outdir, 'w') as f1:\n",
    "            f1.write(json.dumps(new_data, indent=2))\n"
   ]
  },
  {
   "attachments": {},
   "cell_type": "markdown",
   "metadata": {},
   "source": [
    "# Few-Shot with Instructions"
   ]
  },
  {
   "cell_type": "code",
   "execution_count": 8,
   "metadata": {},
   "outputs": [],
   "source": [
    "indir = \"../generated_prompts/all/few_shot_with_instructions\"\n",
    "data_name = \"squad\" #\"NQ\" #\"musique\"\n",
    "data_types = [\"adversarial\", \"control_group\"]\n",
    "variants = [\"variant1\", \"variant2\", \"variant3\"]\n",
    "icl_examples_vs = [f\"icl_examples_v{v}\" for v in range(1,4)]"
   ]
  },
  {
   "cell_type": "code",
   "execution_count": 5,
   "metadata": {},
   "outputs": [],
   "source": [
    "if data_name == \"musique\":\n",
    "    variants_replacemants = {\"variant1\": {\"\":\"\", \"\":\"\"},\n",
    "                            \"variant2\":{\"If it cannot be answered based on the context, reply \\\"unanswerable\\\"\": \"If you don't know the answer, reply \\\"IDK\\\"\",\n",
    "                                        \"unanswerable\": \"IDK\"},\n",
    "                            \"variant3\":{\"If it cannot be answered based on the context, reply \\\"unanswerable\\\"\": \"If there is no correct answer, reply \\\"N/A\\\"\",\n",
    "                                        \"unanswerable\": \"N/A\"}}\n",
    "else:\n",
    "    variants_replacemants = {\"variant1\": {\"\":\"\"},\n",
    "                         \"variant2\":{\"If it cannot be answered based on the passage, reply \\\"unanswerable\\\"\": \"If you don't know the answer, reply \\\"IDK\\\"\",\n",
    "                                     \"unanswerable\": \"IDK\"},\n",
    "                         \"variant3\":{\"If it cannot be answered based on the passage, reply \\\"unanswerable\\\"\": \"If there is no correct answer, reply \\\"N/A\\\"\",\n",
    "                                     \"unanswerable\": \"N/A\"}}"
   ]
  },
  {
   "cell_type": "code",
   "execution_count": 6,
   "metadata": {},
   "outputs": [],
   "source": [
    "def change_instance(instance, variants_replacemants):\n",
    "    updated_instance = dict()\n",
    "    for key,value in instance.items():\n",
    "        if not \"Answerability\" in key:\n",
    "            updated_instance[key] = str(value)\n",
    "            for old_str, new_str in variants_replacemants.items():\n",
    "                updated_instance[key] = updated_instance[key].replace(old_str, new_str)\n",
    "        else:\n",
    "            updated_instance[key] = value\n",
    "    return updated_instance"
   ]
  },
  {
   "cell_type": "code",
   "execution_count": 9,
   "metadata": {},
   "outputs": [
    {
     "name": "stderr",
     "output_type": "stream",
     "text": [
      "100%|██████████| 2/2 [00:14<00:00,  7.46s/it]\n"
     ]
    }
   ],
   "source": [
    "for data_type in tqdm(data_types):\n",
    "    for icl_examples_v in icl_examples_vs:\n",
    "        curr_indir = os.path.join(indir, f\"{data_name}_{data_type}_{icl_examples_v}_all.json\")\n",
    "        with open(curr_indir, 'r') as f1:\n",
    "            curr_data = json.loads(f1.read())\n",
    "        for variant in variants:\n",
    "            curr_outdir = os.path.join(indir, variant, f\"{data_name}_{data_type}_{icl_examples_v}_all.json\")\n",
    "            new_data = [change_instance(instance, variants_replacemants[variant]) for instance in curr_data]\n",
    "\n",
    "            with open(curr_outdir, 'w') as f1:\n",
    "                f1.write(json.dumps(new_data, indent=2))"
   ]
  }
 ],
 "metadata": {
  "kernelspec": {
   "display_name": "adversarial_gpt",
   "language": "python",
   "name": "python3"
  },
  "language_info": {
   "codemirror_mode": {
    "name": "ipython",
    "version": 3
   },
   "file_extension": ".py",
   "mimetype": "text/x-python",
   "name": "python",
   "nbconvert_exporter": "python",
   "pygments_lexer": "ipython3",
   "version": "3.7.16"
  },
  "orig_nbformat": 4
 },
 "nbformat": 4,
 "nbformat_minor": 2
}
