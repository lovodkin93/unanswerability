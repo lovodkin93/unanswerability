{
 "cells": [
  {
   "cell_type": "code",
   "execution_count": 1,
   "metadata": {},
   "outputs": [],
   "source": [
    "import os\n",
    "import json\n",
    "from tqdm import tqdm"
   ]
  },
  {
   "cell_type": "code",
   "execution_count": 2,
   "metadata": {},
   "outputs": [],
   "source": [
    "data_location = {\"train\" : \"../generated_prompts/train_set/filtered\",\n",
    "                 \"dev\" : \"../generated_prompts/dev_set/filtered\",\n",
    "                 \"test\" : \"../generated_prompts/all\"}"
   ]
  },
  {
   "cell_type": "code",
   "execution_count": 3,
   "metadata": {},
   "outputs": [],
   "source": [
    "prompt_types = [\"zero_shot\", \"few_shot_with_instructions\"]\n",
    "variants = [\"variant1\", \"variant2\", \"variant3\"]\n",
    "icl_examples_variants = [\"icl_examples_v1\", \"icl_examples_v2\", \"icl_examples_v3\"]\n",
    "datasets = [\"squad\", \"NQ\", \"musique\"]"
   ]
  },
  {
   "cell_type": "code",
   "execution_count": 4,
   "metadata": {},
   "outputs": [],
   "source": [
    "outdir = \"../data/prompts\""
   ]
  },
  {
   "cell_type": "code",
   "execution_count": 5,
   "metadata": {},
   "outputs": [],
   "source": [
    "def get_files_names(dataset, split_type):\n",
    "    if split_type in [\"train\", \"dev\"]:\n",
    "        return f\"{dataset}_{split_type}set_adversarial_filtered.json\", f\"{dataset}_{split_type}set_control_group_filtered.json\"\n",
    "    else:\n",
    "        return f\"{dataset}_adversarial_all.json\", f\"{dataset}_control_group_all.json\""
   ]
  },
  {
   "cell_type": "markdown",
   "metadata": {},
   "source": [
    "# Zero-Shot"
   ]
  },
  {
   "cell_type": "code",
   "execution_count": 7,
   "metadata": {},
   "outputs": [],
   "source": [
    "for dataset in datasets:\n",
    "    for split_type,split_path in data_location.items():\n",
    "        full_data_dict = {v:dict() for v in variants}\n",
    "        for variant in variants:\n",
    "            curr_indir = os.path.join(split_path, \"zero_shot\", variant)\n",
    "            unanswerable_prompts_json, answerable_prompts_json = get_files_names(dataset, split_type)\n",
    "\n",
    "            with open(os.path.join(curr_indir, unanswerable_prompts_json), 'r') as f1:\n",
    "                full_data_dict[variant][\"un-answerable\"] = json.loads(f1.read())\n",
    "\n",
    "            with open(os.path.join(curr_indir, answerable_prompts_json), 'r') as f1:\n",
    "                full_data_dict[variant][\"answerable\"] = json.loads(f1.read())\n",
    "        \n",
    "        # save data\n",
    "        with open(os.path.join(outdir, dataset, \"zero_shot\", f\"{split_type}.json\"), 'w') as f2:\n",
    "            f2.write(json.dumps(full_data_dict, indent=2))"
   ]
  },
  {
   "cell_type": "markdown",
   "metadata": {},
   "source": [
    "# Few-Shot"
   ]
  },
  {
   "cell_type": "code",
   "execution_count": 8,
   "metadata": {},
   "outputs": [
    {
     "name": "stderr",
     "output_type": "stream",
     "text": [
      "  0%|          | 0/3 [00:00<?, ?it/s]"
     ]
    },
    {
     "name": "stderr",
     "output_type": "stream",
     "text": [
      "100%|██████████| 3/3 [10:11<00:00, 203.87s/it]\n"
     ]
    }
   ],
   "source": [
    "for dataset in tqdm(datasets):\n",
    "    full_data_dict = {v:{ icl_v : dict() for icl_v in icl_examples_variants} for v in variants}\n",
    "    for variant in variants:\n",
    "        curr_indir = os.path.join(data_location[\"test\"], \"few_shot_with_instructions\", variant)\n",
    "        for icl_examples_variant in icl_examples_variants:\n",
    "            unanswerable_prompts_json, answerable_prompts_json = get_files_names(dataset, \"test\")\n",
    "            unanswerable_prompts_json = unanswerable_prompts_json.replace(\"_all\", f\"_{icl_examples_variant}_all\")\n",
    "            answerable_prompts_json = answerable_prompts_json.replace(\"_all\", f\"_{icl_examples_variant}_all\")\n",
    "\n",
    "            with open(os.path.join(curr_indir, unanswerable_prompts_json), 'r') as f1:\n",
    "                full_data_dict[variant][icl_examples_variant][\"un-answerable\"] = json.loads(f1.read())\n",
    "\n",
    "            with open(os.path.join(curr_indir, answerable_prompts_json), 'r') as f1:\n",
    "                full_data_dict[variant][icl_examples_variant][\"answerable\"] = json.loads(f1.read())\n",
    "\n",
    "    # save data\n",
    "    with open(os.path.join(outdir, dataset, \"few_shot\", f\"test.json\"), 'w') as f2:\n",
    "        f2.write(json.dumps(full_data_dict, indent=2))"
   ]
  }
 ],
 "metadata": {
  "kernelspec": {
   "display_name": "adversarial_gpt",
   "language": "python",
   "name": "python3"
  },
  "language_info": {
   "codemirror_mode": {
    "name": "ipython",
    "version": 3
   },
   "file_extension": ".py",
   "mimetype": "text/x-python",
   "name": "python",
   "nbconvert_exporter": "python",
   "pygments_lexer": "ipython3",
   "version": "3.7.16"
  }
 },
 "nbformat": 4,
 "nbformat_minor": 2
}
